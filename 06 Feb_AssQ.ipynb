{
 "cells": [
  {
   "cell_type": "markdown",
   "id": "e6541afa",
   "metadata": {},
   "source": [
    "-------"
   ]
  },
  {
   "cell_type": "markdown",
   "id": "137e8868",
   "metadata": {},
   "source": [
    "Q1. Create a function which will take a list as an argument and return the product of all the numbers\n",
    "after creating a flat list.\n",
    "Use the below-given list as an argument for your function.\n",
    "\n",
    "list1 = [1,2,3,4, [44,55,66, True], False, (34,56,78,89,34), {1,2,3,3,2,1}, {1:34, \"key2\": [55, 67, 78, 89], 4: (45,\n",
    "22, 61, 34)}, [56, 'data science'], 'Machine Learning']\n",
    "\n",
    "Note: you must extract numeric keys and values of the dictionary also."
   ]
  },
  {
   "cell_type": "code",
   "execution_count": 1,
   "id": "ca324df3",
   "metadata": {},
   "outputs": [],
   "source": [
    "list1 = [1,2,3,4, [44,55,66, True], False, (34,56,78,89,34), \n",
    "         {1,2,3,3,2,1}, {1:34, \"key2\": [55, 67, 78, 89], 4: (45, 22, 61, 34)},\n",
    "         [56, 'data science'], 'Machine Learning']"
   ]
  },
  {
   "cell_type": "code",
   "execution_count": 2,
   "id": "85111687",
   "metadata": {},
   "outputs": [
    {
     "name": "stdout",
     "output_type": "stream",
     "text": [
      "The product is:  236909444950789045302067200\n"
     ]
    }
   ],
   "source": [
    "\n",
    "def flat_list_product_calculation(list1):\n",
    "    flat_list = []\n",
    "    for i in list1:\n",
    "\n",
    "        # For the direct integer value\n",
    "        if isinstance(i, int) and type(i)!= bool:\n",
    "            flat_list.append(i)\n",
    "\n",
    "        # For the list, tuple or set containing the values\n",
    "        elif isinstance(i, (list, tuple, set)):\n",
    "            for x in i:\n",
    "                if isinstance(x, int) and type(x)!= bool:\n",
    "                    flat_list.append(x)\n",
    "\n",
    "        # For the dictionary extraction\n",
    "        elif isinstance(i,dict): \n",
    "            for key, value in i.items():\n",
    "                if isinstance(key, int) and type(key)!= bool:\n",
    "                    flat_list.append(key)\n",
    "                elif isinstance(key, (list, tuple, set)):\n",
    "                    for x in key:\n",
    "                        if isinstance(x, int) and type(x)!= bool:\n",
    "                            flat_list.append(x)\n",
    "\n",
    "                if isinstance(key, int) and type(key)!= bool:\n",
    "                    flat_list.append(key)       \n",
    "                elif isinstance(value, (list, tuple, set)):\n",
    "                    for x in value:\n",
    "                        if isinstance(x, int) and type(x)!= bool:\n",
    "                            flat_list.append(x)\n",
    "    product = 1\n",
    "    for i in flat_list:\n",
    "        product*=i\n",
    "        \n",
    "    return product\n",
    "\n",
    "print(\"The product is: \", flat_list_product_calculation(list1))"
   ]
  },
  {
   "cell_type": "markdown",
   "id": "a1ec3aa2",
   "metadata": {},
   "source": [
    "------------"
   ]
  },
  {
   "cell_type": "markdown",
   "id": "aa01a1b8",
   "metadata": {},
   "source": [
    "Q2. Write a python program for encrypting a message sent to you by your friend. The logic of encryption\n",
    "should be such that, for a the output should be z. For b, the output should be y. For c, the output should\n",
    "be x respectively. Also, the whitespace should be replaced with a dollar sign. Keep the punctuation\n",
    "marks unchanged.\n",
    "\n",
    "Input Sentence: I want to become a Data Scientist.\n",
    "    \n",
    "Encrypt the above input sentence using the program you just created.\n",
    "\n",
    "Note: Convert the given input sentence into lowercase before encrypting. The final output should be\n",
    "lowercase."
   ]
  },
  {
   "cell_type": "code",
   "execution_count": 3,
   "id": "ec0763a2",
   "metadata": {},
   "outputs": [
    {
     "data": {
      "text/plain": [
       "'r$dzmg$gl$yvxlnv$z$wzgz$hxrvmgrhg'"
      ]
     },
     "execution_count": 3,
     "metadata": {},
     "output_type": "execute_result"
    }
   ],
   "source": [
    "string = \"I want to become a Data Scientist\"\n",
    "\n",
    "encrypted_string = \"\"\n",
    "\n",
    "string = string.lower()\n",
    "\n",
    "def encryp_string(string):\n",
    "    encrypted_string = \"\"\n",
    "    \n",
    "    for char in string:\n",
    "        if char.isalpha() == True:\n",
    "            encrypted_char = chr(ord('a') + (ord('z') - ord(char)))\n",
    "        elif char.isspace() == True:\n",
    "            encrypted_char = '$'\n",
    "        else:\n",
    "            encrypted_char = char\n",
    "        encrypted_string += encrypted_char\n",
    "    \n",
    "    return encrypted_string\n",
    "\n",
    "encryp_string(string)"
   ]
  },
  {
   "cell_type": "markdown",
   "id": "fede9948",
   "metadata": {},
   "source": [
    "-----------"
   ]
  }
 ],
 "metadata": {
  "kernelspec": {
   "display_name": "Python 3 (ipykernel)",
   "language": "python",
   "name": "python3"
  },
  "language_info": {
   "codemirror_mode": {
    "name": "ipython",
    "version": 3
   },
   "file_extension": ".py",
   "mimetype": "text/x-python",
   "name": "python",
   "nbconvert_exporter": "python",
   "pygments_lexer": "ipython3",
   "version": "3.7.11"
  }
 },
 "nbformat": 4,
 "nbformat_minor": 5
}
