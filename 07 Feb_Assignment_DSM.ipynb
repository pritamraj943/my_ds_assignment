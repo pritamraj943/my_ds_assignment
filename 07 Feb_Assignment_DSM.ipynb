{
 "cells": [
  {
   "cell_type": "markdown",
   "id": "137e8868",
   "metadata": {},
   "source": [
    "Q1. You are writing code for a company. The requirement of the company is that you create a python\n",
    "function that will check whether the password entered by the user is correct or not. The function should\n",
    "take the password as input and return the string “Valid Password” if the entered password follows the\n",
    "below-given password guidelines else it should return “Invalid Password”.\n",
    "\n",
    "\n",
    "Note: 1. The Password should contain at least two uppercase letters and at least two lowercase letters.\n",
    "\n",
    "2. The Password should contain at least a number and three special characters.\n",
    "\n",
    "3. The length of the password should be 10 characters long."
   ]
  },
  {
   "cell_type": "code",
   "execution_count": 14,
   "id": "bb54a675",
   "metadata": {},
   "outputs": [
    {
     "name": "stdout",
     "output_type": "stream",
     "text": [
      "Invalid Password\n",
      "Valid Password\n"
     ]
    }
   ],
   "source": [
    "def upper_lower_check(password):\n",
    "    upper_len = 0\n",
    "    lower_len = 0\n",
    "    num_len = 0\n",
    "    special_charac = 0\n",
    "    \n",
    "    for i in password:\n",
    "        if i.isupper():\n",
    "            upper_len += 1\n",
    "        elif i.islower():\n",
    "            lower_len += 1\n",
    "        elif i.isdigit():\n",
    "            num_len += 1\n",
    "        else:\n",
    "            special_charac += 1\n",
    "            \n",
    "    return upper_len, lower_len, num_len, special_charac\n",
    "    \n",
    "    \n",
    "def password_check_func(password):\n",
    "    length = len(password)\n",
    "    upper_len, lower_len, num_len, special_charac = upper_lower_check(password)\n",
    "    \n",
    "    if (upper_len >= 2 and lower_len >= 2) and (num_len >= 1 and special_charac >= 3) and length == 10:\n",
    "        return \"Valid Password\"\n",
    "    else:\n",
    "        return \"Invalid Password\"\n",
    "    \n",
    "    \n",
    "print(password_check_func(\"P55word!!#\"))\n",
    "print(password_check_func(\"PA55wrd!!#\"))\n"
   ]
  },
  {
   "cell_type": "markdown",
   "id": "d9439fc4",
   "metadata": {},
   "source": [
    "----"
   ]
  },
  {
   "cell_type": "markdown",
   "id": "a28034f8",
   "metadata": {},
   "source": [
    "==============================================================================================================="
   ]
  },
  {
   "cell_type": "markdown",
   "id": "63d54912",
   "metadata": {},
   "source": [
    "Q2. Solve the below-given questions using at least one of the following:\n",
    "    \n",
    "1. Lambda functioJ\n",
    "\n",
    "2. Filter functioJ\n",
    "\n",
    "3. Zap functioJ\n",
    "\n",
    "4. List ComprehensioI\n",
    "\n",
    "    \n",
    "\n",
    "    \n",
    "\n",
    "   \n",
    "                                                                  \n",
    "    \n",
    "                                                                  \n",
    "    \n",
    "                                                        "
   ]
  },
  {
   "cell_type": "markdown",
   "id": "65078154",
   "metadata": {},
   "source": [
    "Check if the string starts with a particular letter"
   ]
  },
  {
   "cell_type": "code",
   "execution_count": 40,
   "id": "3b654d14",
   "metadata": {},
   "outputs": [
    {
     "name": "stdout",
     "output_type": "stream",
     "text": [
      "Enter a letter from which you want to check whether a string starts with it or noti\n"
     ]
    },
    {
     "data": {
      "text/plain": [
       "['Condition Satisfied']"
      ]
     },
     "execution_count": 40,
     "metadata": {},
     "output_type": "execute_result"
    }
   ],
   "source": [
    "String = \"I am a boy preparing for the Data Science Role\"\n",
    "letter = input(\"Enter a letter from which you want to check whether a string starts with it or not\")\n",
    "[\"Condition Satisfied\" if String.lower().startswith(letter.lower()) else \"Condition Not Satisfied\" ]"
   ]
  },
  {
   "cell_type": "markdown",
   "id": "55909dd2",
   "metadata": {},
   "source": [
    "------"
   ]
  },
  {
   "cell_type": "markdown",
   "id": "099f1ff7",
   "metadata": {},
   "source": [
    "Check if the string is numeric"
   ]
  },
  {
   "cell_type": "code",
   "execution_count": 33,
   "id": "d9d34b74",
   "metadata": {},
   "outputs": [
    {
     "name": "stdout",
     "output_type": "stream",
     "text": [
      "Enter a string1\n"
     ]
    },
    {
     "data": {
      "text/plain": [
       "['Numeric']"
      ]
     },
     "execution_count": 33,
     "metadata": {},
     "output_type": "execute_result"
    }
   ],
   "source": [
    "string = input('Enter a string')\n",
    "['Numeric' if string.isnumeric() == True else \"Non Numeric\"]"
   ]
  },
  {
   "cell_type": "markdown",
   "id": "6bc199cf",
   "metadata": {},
   "source": [
    "----------"
   ]
  },
  {
   "cell_type": "markdown",
   "id": "6e3b6408",
   "metadata": {},
   "source": [
    "Sort a list of tuples having fruit names and their quantity. [(\"mango\",99),(\"orange\",80), (\"grapes\", 1000)]"
   ]
  },
  {
   "cell_type": "code",
   "execution_count": 37,
   "id": "9aeb2d0f",
   "metadata": {},
   "outputs": [
    {
     "data": {
      "text/plain": [
       "[('orange', 80), ('mango', 99), ('grapes', 1000)]"
      ]
     },
     "execution_count": 37,
     "metadata": {},
     "output_type": "execute_result"
    }
   ],
   "source": [
    "fruit_list =  [(\"mango\",99),(\"orange\",80), (\"grapes\", 1000)]\n",
    "sorted_fruit_list = sorted(fruit_list, key=lambda x: x[1])\n",
    "sorted_fruit_list"
   ]
  },
  {
   "cell_type": "markdown",
   "id": "9938aba2",
   "metadata": {},
   "source": [
    "----------"
   ]
  },
  {
   "cell_type": "markdown",
   "id": "65ecb34f",
   "metadata": {},
   "source": [
    "Find the squares of numbers from 1 to 10"
   ]
  },
  {
   "cell_type": "code",
   "execution_count": 31,
   "id": "5e94d36f",
   "metadata": {},
   "outputs": [
    {
     "data": {
      "text/plain": [
       "[1, 4, 9, 16, 25, 36, 49, 64, 81, 100]"
      ]
     },
     "execution_count": 31,
     "metadata": {},
     "output_type": "execute_result"
    }
   ],
   "source": [
    "num_square_list = list(map(lambda x: x**2,range(1,11,1)))\n",
    "num_square_list"
   ]
  },
  {
   "cell_type": "markdown",
   "id": "b1ad4ebc",
   "metadata": {},
   "source": [
    "---------"
   ]
  },
  {
   "cell_type": "markdown",
   "id": "bd7ef899",
   "metadata": {},
   "source": [
    "Find the cube root of numbers from 1 to 10"
   ]
  },
  {
   "cell_type": "code",
   "execution_count": 22,
   "id": "dc3e93bf",
   "metadata": {},
   "outputs": [
    {
     "data": {
      "text/plain": [
       "[1.0, 1.26, 1.44, 1.59, 1.71, 1.82, 1.91, 2.0, 2.08, 2.15]"
      ]
     },
     "execution_count": 22,
     "metadata": {},
     "output_type": "execute_result"
    }
   ],
   "source": [
    "num_list = range(1,11,1)\n",
    "def cube_root(n):\n",
    "    return round(n**(1/3),2)\n",
    "\n",
    "list(map(cube_root, num_list))\n"
   ]
  },
  {
   "cell_type": "markdown",
   "id": "4529be0e",
   "metadata": {},
   "source": [
    "-------"
   ]
  },
  {
   "cell_type": "markdown",
   "id": "f0453f90",
   "metadata": {},
   "source": [
    "Check if a given number is even"
   ]
  },
  {
   "cell_type": "code",
   "execution_count": 27,
   "id": "52cfbd26",
   "metadata": {},
   "outputs": [
    {
     "name": "stdout",
     "output_type": "stream",
     "text": [
      "Enter any number2\n"
     ]
    },
    {
     "data": {
      "text/plain": [
       "['Even']"
      ]
     },
     "execution_count": 27,
     "metadata": {},
     "output_type": "execute_result"
    }
   ],
   "source": [
    "n = int(input(\"Enter any number\"))\n",
    "[\"Even\" if n%2==0 else \"Odd\"]"
   ]
  },
  {
   "cell_type": "markdown",
   "id": "a090b028",
   "metadata": {},
   "source": [
    "---------"
   ]
  },
  {
   "cell_type": "markdown",
   "id": "3fb110e8",
   "metadata": {},
   "source": [
    " Filter odd numbers from the given list.\n",
    "    [1,2,3,4,5,6,7,8,9,10]"
   ]
  },
  {
   "cell_type": "code",
   "execution_count": 25,
   "id": "fcdd171e",
   "metadata": {},
   "outputs": [
    {
     "data": {
      "text/plain": [
       "[1, 3, 5, 7, 9]"
      ]
     },
     "execution_count": 25,
     "metadata": {},
     "output_type": "execute_result"
    }
   ],
   "source": [
    "num_list = [1,2,3,4,5,6,7,8,9,10]\n",
    "odd_num_list = list(filter(lambda x: x%2!=0, num_list))\n",
    "odd_num_list"
   ]
  },
  {
   "cell_type": "markdown",
   "id": "2baa312d",
   "metadata": {},
   "source": [
    "---------"
   ]
  },
  {
   "cell_type": "markdown",
   "id": "4504d19b",
   "metadata": {},
   "source": [
    "Sort a list of integers into positive and negative integers lists.\n",
    "    [1,2,3,4,5,6,-1,-2,-3,-4,-5,0]"
   ]
  },
  {
   "cell_type": "code",
   "execution_count": 29,
   "id": "638e3f53",
   "metadata": {},
   "outputs": [
    {
     "name": "stdout",
     "output_type": "stream",
     "text": [
      "Positive numbers: [1, 2, 3, 4, 5, 6, 0]\n",
      "Negative numbers: [-1, -2, -3, -4, -5]\n"
     ]
    }
   ],
   "source": [
    "num_list = [1, 2, 3, 4, 5, 6, -1, -2, -3, -4, -5, 0]\n",
    "pos_list = []\n",
    "neg_list = []\n",
    "\n",
    "[pos_list.append(i) if i >= 0 else neg_list.append(i) for i in num_list]\n",
    "\n",
    "print(\"Positive numbers:\", pos_list)\n",
    "print(\"Negative numbers:\", neg_list)\n"
   ]
  },
  {
   "cell_type": "markdown",
   "id": "6193df78",
   "metadata": {},
   "source": [
    "-------"
   ]
  }
 ],
 "metadata": {
  "kernelspec": {
   "display_name": "Python 3 (ipykernel)",
   "language": "python",
   "name": "python3"
  },
  "language_info": {
   "codemirror_mode": {
    "name": "ipython",
    "version": 3
   },
   "file_extension": ".py",
   "mimetype": "text/x-python",
   "name": "python",
   "nbconvert_exporter": "python",
   "pygments_lexer": "ipython3",
   "version": "3.7.11"
  }
 },
 "nbformat": 4,
 "nbformat_minor": 5
}
