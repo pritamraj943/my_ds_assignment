{
 "cells": [
  {
   "cell_type": "markdown",
   "id": "e6541afa",
   "metadata": {},
   "source": [
    "-------"
   ]
  },
  {
   "cell_type": "markdown",
   "id": "137e8868",
   "metadata": {},
   "source": [
    "1. Write a program to accept percentage from the user and display the grade according to the following creteria"
   ]
  },
  {
   "cell_type": "code",
   "execution_count": 8,
   "id": "85111687",
   "metadata": {},
   "outputs": [
    {
     "name": "stdout",
     "output_type": "stream",
     "text": [
      "Enter a marks92\n",
      "The grade is: A\n"
     ]
    }
   ],
   "source": [
    "marks = int(input(\"Enter a marks\"))\n",
    "\n",
    "def return_grade(marks):\n",
    "    if marks<60:\n",
    "        return \"D\"\n",
    "    elif marks<=80:\n",
    "        return \"C\"\n",
    "    elif marks<=90:\n",
    "        return \"B\"\n",
    "    else:\n",
    "        return \"A\"\n",
    "\n",
    "print('The grade is:', return_grade(marks))"
   ]
  },
  {
   "cell_type": "markdown",
   "id": "7d7bdc3b",
   "metadata": {},
   "source": [
    "---"
   ]
  },
  {
   "cell_type": "markdown",
   "id": "1b9cd058",
   "metadata": {},
   "source": [
    "2. Write a program to accept the cost price of a bike and display the road tax to be paid according to the following criteria"
   ]
  },
  {
   "cell_type": "code",
   "execution_count": 10,
   "id": "3ea92ed2",
   "metadata": {},
   "outputs": [
    {
     "name": "stdout",
     "output_type": "stream",
     "text": [
      "Enter the cost price of the bike1000000\n",
      "The road tax is: 15%\n"
     ]
    }
   ],
   "source": [
    "cost = int(input(\"Enter the cost price of the bike\"))\n",
    "\n",
    "def return_road_tax(cost):\n",
    "    if cost<=50000:\n",
    "        return \"5%\"\n",
    "    elif cost<=100000:\n",
    "        return \"10%\"\n",
    "    else:\n",
    "        return \"15%\"\n",
    "\n",
    "print('The road tax is:', return_road_tax(cost))"
   ]
  },
  {
   "cell_type": "markdown",
   "id": "74d77d06",
   "metadata": {},
   "source": [
    "----"
   ]
  },
  {
   "cell_type": "markdown",
   "id": "6467bb30",
   "metadata": {},
   "source": [
    "3. Accept any city from the user and display monuments of that city."
   ]
  },
  {
   "cell_type": "code",
   "execution_count": 11,
   "id": "7ff5325d",
   "metadata": {},
   "outputs": [
    {
     "data": {
      "text/plain": [
       "{'Delhi': 'Red Fort', 'Agra': 'Taj Mahal', 'Jaipur': 'Jal Mahal'}"
      ]
     },
     "execution_count": 11,
     "metadata": {},
     "output_type": "execute_result"
    }
   ],
   "source": [
    "monument_dictionary = {\"Delhi\": \"Red Fort\", \"Agra\":\"Taj Mahal\", \"Jaipur\": \"Jal Mahal\"}\n",
    "monument_dictionary"
   ]
  },
  {
   "cell_type": "code",
   "execution_count": 13,
   "id": "8bd76353",
   "metadata": {},
   "outputs": [
    {
     "name": "stdout",
     "output_type": "stream",
     "text": [
      "Enter any city nameDelhi\n",
      "The monument in the asked city is Red Fort\n"
     ]
    }
   ],
   "source": [
    "city_name = input(\"Enter any city name\")\n",
    "print('The monument in the asked city is', monument_dictionary[city_name])\n"
   ]
  },
  {
   "cell_type": "markdown",
   "id": "a1ec3aa2",
   "metadata": {},
   "source": [
    "------------"
   ]
  },
  {
   "cell_type": "markdown",
   "id": "aa01a1b8",
   "metadata": {},
   "source": [
    "4. Check how many times a given number can be divided by 3 before it is less than or equal to 10."
   ]
  },
  {
   "cell_type": "code",
   "execution_count": 16,
   "id": "ec0763a2",
   "metadata": {},
   "outputs": [
    {
     "name": "stdout",
     "output_type": "stream",
     "text": [
      "Enter a number90\n",
      "The number of times is: 2\n"
     ]
    }
   ],
   "source": [
    "count = 0\n",
    "\n",
    "n = int(input(\"Enter a number\"))\n",
    "\n",
    "while n>10:\n",
    "    n/=3\n",
    "    count+=1\n",
    "\n",
    "print(\"The number of times is:\", count)"
   ]
  },
  {
   "cell_type": "markdown",
   "id": "fede9948",
   "metadata": {},
   "source": [
    "-----------"
   ]
  },
  {
   "cell_type": "markdown",
   "id": "e9188836",
   "metadata": {},
   "source": [
    "5. Why and When to Use while Loop in Python give a detailed description with example"
   ]
  },
  {
   "cell_type": "markdown",
   "id": "191d608d",
   "metadata": {},
   "source": [
    "The while loop in Python is used when you want to repeat a block of code until a certain condition is met. It allows you to create iterative processes where you don't know beforehand how many times the loop needs to be executed. The loop continues as long as the condition specified at the beginning of the loop is true."
   ]
  },
  {
   "cell_type": "markdown",
   "id": "d785e526",
   "metadata": {},
   "source": [
    "The condition is a boolean expression that determines whether the loop should continue or not. The code block within the loop is executed repeatedly until the condition evaluates to False.\n",
    "\n",
    "For example, let's say we want to print the numbers from 1 to 5 using a while loop:"
   ]
  },
  {
   "cell_type": "code",
   "execution_count": 21,
   "id": "2020c6a7",
   "metadata": {},
   "outputs": [
    {
     "name": "stdout",
     "output_type": "stream",
     "text": [
      "1\n",
      "2\n",
      "3\n",
      "4\n",
      "5\n"
     ]
    }
   ],
   "source": [
    "num = 1\n",
    "while num <= 5:\n",
    "    print(num)\n",
    "    num += 1\n"
   ]
  },
  {
   "cell_type": "markdown",
   "id": "2f25d9fe",
   "metadata": {},
   "source": [
    "In this example, we initialize the variable num to 1. The while loop checks if num is less than or equal to 5. If the condition is true, the code block is executed, which prints the value of num and then increments it by 1 using num += 1. The loop continues until the condition becomes false (when num reaches 6), at which point the loop terminates.\n",
    "\n"
   ]
  },
  {
   "cell_type": "markdown",
   "id": "0f83f993",
   "metadata": {},
   "source": [
    "---"
   ]
  },
  {
   "cell_type": "markdown",
   "id": "89765514",
   "metadata": {},
   "source": [
    "6. Use nested while loop to print 3 different pattern."
   ]
  },
  {
   "cell_type": "code",
   "execution_count": 17,
   "id": "7c034216",
   "metadata": {},
   "outputs": [
    {
     "name": "stdout",
     "output_type": "stream",
     "text": [
      "*\n",
      "**\n",
      "***\n",
      "****\n",
      "*****\n"
     ]
    }
   ],
   "source": [
    "row = 1\n",
    "while row <= 5:\n",
    "    col = 1\n",
    "    while col <= row:\n",
    "        print(\"*\", end=\"\")\n",
    "        col += 1\n",
    "    print()\n",
    "    row += 1"
   ]
  },
  {
   "cell_type": "code",
   "execution_count": 18,
   "id": "8a196853",
   "metadata": {},
   "outputs": [
    {
     "name": "stdout",
     "output_type": "stream",
     "text": [
      "*****\n",
      "*****\n",
      "*****\n",
      "*****\n",
      "*****\n"
     ]
    }
   ],
   "source": [
    "row = 1\n",
    "while row <= 5:\n",
    "    col = 1\n",
    "    while col <= 5:\n",
    "        print(\"*\", end=\"\")\n",
    "        col += 1\n",
    "    print()\n",
    "    row += 1"
   ]
  },
  {
   "cell_type": "code",
   "execution_count": 19,
   "id": "0d2326b0",
   "metadata": {},
   "outputs": [
    {
     "name": "stdout",
     "output_type": "stream",
     "text": [
      "    *\n",
      "   ***\n",
      "  *****\n",
      " *******\n",
      "*********\n"
     ]
    }
   ],
   "source": [
    "row = 1\n",
    "while row <= 5:\n",
    "    spaces = 5 - row\n",
    "    while spaces > 0:\n",
    "        print(\" \", end=\"\")\n",
    "        spaces -= 1\n",
    "\n",
    "    stars = 2 * row - 1\n",
    "    while stars > 0:\n",
    "        print(\"*\", end=\"\")\n",
    "        stars -= 1\n",
    "\n",
    "    print()\n",
    "    row += 1\n"
   ]
  },
  {
   "cell_type": "markdown",
   "id": "fc0c5c42",
   "metadata": {},
   "source": [
    "----"
   ]
  },
  {
   "cell_type": "markdown",
   "id": "b0ad6882",
   "metadata": {},
   "source": [
    "7. Reverse a while loop to display numbers from 10 to 1."
   ]
  },
  {
   "cell_type": "code",
   "execution_count": 4,
   "id": "41ea8673",
   "metadata": {},
   "outputs": [
    {
     "name": "stdout",
     "output_type": "stream",
     "text": [
      "10 9 8 7 6 5 4 3 2 1 "
     ]
    }
   ],
   "source": [
    "i = 10\n",
    "while i>0:\n",
    "    print(i, end = \" \")\n",
    "    i-=1"
   ]
  },
  {
   "cell_type": "markdown",
   "id": "819b85b2",
   "metadata": {},
   "source": [
    "---"
   ]
  },
  {
   "cell_type": "markdown",
   "id": "a60cb0eb",
   "metadata": {},
   "source": [
    "8. Reverse a while loop to display numbers from 10 to 1"
   ]
  },
  {
   "cell_type": "code",
   "execution_count": 5,
   "id": "bf895984",
   "metadata": {},
   "outputs": [
    {
     "name": "stdout",
     "output_type": "stream",
     "text": [
      "10 9 8 7 6 5 4 3 2 1 "
     ]
    }
   ],
   "source": [
    "i = 10\n",
    "while i>0:\n",
    "    print(i, end = \" \")\n",
    "    i-=1"
   ]
  },
  {
   "cell_type": "markdown",
   "id": "82846012",
   "metadata": {},
   "source": [
    "---"
   ]
  }
 ],
 "metadata": {
  "kernelspec": {
   "display_name": "Python 3 (ipykernel)",
   "language": "python",
   "name": "python3"
  },
  "language_info": {
   "codemirror_mode": {
    "name": "ipython",
    "version": 3
   },
   "file_extension": ".py",
   "mimetype": "text/x-python",
   "name": "python",
   "nbconvert_exporter": "python",
   "pygments_lexer": "ipython3",
   "version": "3.7.11"
  }
 },
 "nbformat": 4,
 "nbformat_minor": 5
}
