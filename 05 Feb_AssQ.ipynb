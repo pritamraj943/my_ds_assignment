{
 "cells": [
  {
   "cell_type": "markdown",
   "id": "a56a76c0",
   "metadata": {},
   "source": [
    "Q1. Explain Class and Object with respect to Object-Oriented Programming. Give a suitable example."
   ]
  },
  {
   "cell_type": "markdown",
   "id": "20bb7190",
   "metadata": {},
   "source": [
    "Class: A blueprint or template for creating objects that defines their attributes and behaviors.\n",
    "\n",
    "Object: An instance of a class that has its own unique state and can perform actions defined in the class."
   ]
  },
  {
   "cell_type": "code",
   "execution_count": 1,
   "id": "c8899dd9",
   "metadata": {},
   "outputs": [
    {
     "name": "stdout",
     "output_type": "stream",
     "text": [
      "Toyota\n",
      "blue\n",
      "The red Toyota car is driving.\n",
      "The blue Honda car is driving.\n"
     ]
    }
   ],
   "source": [
    "# Class definition\n",
    "class Car:\n",
    "    def __init__(self, brand, color):\n",
    "        self.brand = brand\n",
    "        self.color = color\n",
    "\n",
    "    def drive(self):\n",
    "        print(f\"The {self.color} {self.brand} car is driving.\")\n",
    "\n",
    "# Object instantiation\n",
    "car1 = Car(\"Toyota\", \"red\")\n",
    "car2 = Car(\"Honda\", \"blue\")\n",
    "\n",
    "# Accessing object attributes\n",
    "print(car1.brand)  # Output: Toyota\n",
    "print(car2.color)  # Output: blue\n",
    "\n",
    "# Calling object methods\n",
    "car1.drive()  # Output: The red Toyota car is driving.\n",
    "car2.drive()  # Output: The blue Honda car is driving.\n"
   ]
  },
  {
   "cell_type": "markdown",
   "id": "5d38f5dc",
   "metadata": {},
   "source": [
    "In the example above, the Car class defines the blueprint for creating car objects. It has attributes such as brand and color, and a method called drive() that allows a car to be driven. We then create two car objects, car1 and car2, with different brand and color values. We can access the attributes of each object and call their methods to perform specific actions."
   ]
  },
  {
   "cell_type": "markdown",
   "id": "8c268e16",
   "metadata": {},
   "source": [
    "-----------"
   ]
  },
  {
   "cell_type": "markdown",
   "id": "87346ab5",
   "metadata": {},
   "source": [
    "Q2. Name the four pillars of OOPs."
   ]
  },
  {
   "cell_type": "markdown",
   "id": "ddc7d824",
   "metadata": {},
   "source": [
    "\n",
    "The four pillars of object-oriented programming (OOP) are:\n",
    "\n",
    "Encapsulation: Bundling of data and methods into a single unit (class) to provide data hiding and controlled access.\n",
    "\n",
    "Inheritance: Ability of objects to inherit properties and behaviors from a parent class, promoting code reuse and hierarchy.\n",
    "\n",
    "Polymorphism: Ability of objects to take on different forms or exhibit different behaviors based on the context, allowing flexibility and extensibility.\n",
    "\n",
    "Abstraction: Representing complex entities with simplified models, focusing on essential features and hiding unnecessary details for easier programming."
   ]
  },
  {
   "cell_type": "markdown",
   "id": "a7c5497b",
   "metadata": {},
   "source": [
    "-------"
   ]
  },
  {
   "cell_type": "markdown",
   "id": "8453c464",
   "metadata": {},
   "source": [
    "Q3. Explain why the __init__() function is used. Give a suitable example."
   ]
  },
  {
   "cell_type": "markdown",
   "id": "4c3a30d9",
   "metadata": {},
   "source": [
    "The __init__() function is used in Python classes as a constructor method. It is automatically called when an object is created from a class and is used to initialize the object's attributes."
   ]
  },
  {
   "cell_type": "code",
   "execution_count": 5,
   "id": "b9c6deca",
   "metadata": {},
   "outputs": [
    {
     "name": "stdout",
     "output_type": "stream",
     "text": [
      "John\n",
      "25\n"
     ]
    }
   ],
   "source": [
    "class Person:\n",
    "    def __init__(self, name, age):\n",
    "        self.name = name\n",
    "        self.age = age\n",
    "\n",
    "person1 = Person(\"John\", 25)\n",
    "print(person1.name)  # Output: John\n",
    "print(person1.age)   # Output: 25"
   ]
  },
  {
   "cell_type": "markdown",
   "id": "b582aa86",
   "metadata": {},
   "source": [
    "In this example, the __init__() function is defined within the Person class. It takes two parameters, name and age, and assigns them as attributes to the object being created. When person1 is instantiated with the name \"John\" and age 25, the __init__() function is automatically called to initialize the object with the provided values."
   ]
  },
  {
   "cell_type": "markdown",
   "id": "9bc5d08e",
   "metadata": {},
   "source": [
    "----------"
   ]
  },
  {
   "cell_type": "markdown",
   "id": "2495bed6",
   "metadata": {},
   "source": [
    "Q4. Why self is used in OOPs?"
   ]
  },
  {
   "cell_type": "markdown",
   "id": "ada1b47d",
   "metadata": {},
   "source": [
    "self is used in OOP to refer to the instance of a class and access its attributes and methods."
   ]
  },
  {
   "cell_type": "markdown",
   "id": "3441ace5",
   "metadata": {},
   "source": [
    "-----"
   ]
  },
  {
   "cell_type": "markdown",
   "id": "4899aaab",
   "metadata": {},
   "source": [
    "Q5. What is inheritance? Give an example for each type of inheritance."
   ]
  },
  {
   "cell_type": "markdown",
   "id": "964c6549",
   "metadata": {},
   "source": [
    "Inheritance is a feature in object-oriented programming where a class inherits the properties and behaviors (attributes and methods) of another class. It allows for code reuse and promotes a hierarchical structure."
   ]
  },
  {
   "cell_type": "markdown",
   "id": "cbdea139",
   "metadata": {},
   "source": [
    "Types of inheritance:\n",
    "\n",
    "Single Inheritance: A class inherits from a single parent class.\n",
    "Example:\n",
    "\n"
   ]
  },
  {
   "cell_type": "code",
   "execution_count": 9,
   "id": "50e02c98",
   "metadata": {},
   "outputs": [],
   "source": [
    "class Animal:\n",
    "    def eat(self):\n",
    "        print(\"Eating...\")\n",
    "\n",
    "class Dog(Animal):\n",
    "    def bark(self):\n",
    "        print(\"Barking...\")\n"
   ]
  },
  {
   "cell_type": "markdown",
   "id": "81c0c776",
   "metadata": {},
   "source": [
    "Multiple Inheritance: A class inherits from multiple parent classes.\n",
    "Example:"
   ]
  },
  {
   "cell_type": "code",
   "execution_count": 10,
   "id": "6ad8ce8b",
   "metadata": {},
   "outputs": [],
   "source": [
    "class Parent1:\n",
    "    def method1(self):\n",
    "        print(\"Method 1...\")\n",
    "\n",
    "class Parent2:\n",
    "    def method2(self):\n",
    "        print(\"Method 2...\")\n",
    "\n",
    "class Child(Parent1, Parent2):\n",
    "    def method3(self):\n",
    "        print(\"Method 3...\")\n"
   ]
  },
  {
   "cell_type": "markdown",
   "id": "e6472235",
   "metadata": {},
   "source": [
    "Multilevel Inheritance: A class inherits from a parent class, which in turn inherits from another parent class."
   ]
  },
  {
   "cell_type": "code",
   "execution_count": 12,
   "id": "ac11e0be",
   "metadata": {},
   "outputs": [],
   "source": [
    "class Vehicle:\n",
    "    def drive(self):\n",
    "        print(\"Driving...\")\n",
    "\n",
    "class Car(Vehicle):\n",
    "    def park(self):\n",
    "        print(\"Parking...\")\n",
    "\n",
    "class Sedan(Car):\n",
    "    def fuel_efficiency(self):\n",
    "        print(\"High fuel efficiency...\")\n"
   ]
  }
 ],
 "metadata": {
  "kernelspec": {
   "display_name": "Python 3 (ipykernel)",
   "language": "python",
   "name": "python3"
  },
  "language_info": {
   "codemirror_mode": {
    "name": "ipython",
    "version": 3
   },
   "file_extension": ".py",
   "mimetype": "text/x-python",
   "name": "python",
   "nbconvert_exporter": "python",
   "pygments_lexer": "ipython3",
   "version": "3.7.11"
  }
 },
 "nbformat": 4,
 "nbformat_minor": 5
}
