{
 "cells": [
  {
   "cell_type": "markdown",
   "id": "1db6adcc",
   "metadata": {},
   "source": [
    "Q1. Which keyword is used to create a function? Create a function to return a list of odd numbers in the\n",
    "range of 1 to 25."
   ]
  },
  {
   "cell_type": "markdown",
   "id": "b9cd63ba",
   "metadata": {},
   "source": [
    "The \"def\" keyword is used to create a function in Python."
   ]
  },
  {
   "cell_type": "code",
   "execution_count": 8,
   "id": "bee8d54d",
   "metadata": {},
   "outputs": [
    {
     "data": {
      "text/plain": [
       "[1, 3, 5, 7, 9, 11, 13, 15, 17, 19, 21, 23]"
      ]
     },
     "execution_count": 8,
     "metadata": {},
     "output_type": "execute_result"
    }
   ],
   "source": [
    "num_list = range(1,25,1)\n",
    "\n",
    "def odd_num_list(num_list):\n",
    "    return list(filter(lambda i: i%2!=0, num_list))\n",
    "\n",
    "odd_num_list(num_list)"
   ]
  },
  {
   "cell_type": "markdown",
   "id": "a8e85468",
   "metadata": {},
   "source": [
    "---"
   ]
  },
  {
   "cell_type": "markdown",
   "id": "6ea505cd",
   "metadata": {},
   "source": [
    "Q2. Why *args and **kwargs is used in some functions? Create a function each for *args and **kwargs\n",
    "to demonstrate their use."
   ]
  },
  {
   "attachments": {},
   "cell_type": "markdown",
   "id": "b7b19585",
   "metadata": {},
   "source": [
    "The args are used in the function to make it flexible to get the variable number of the arguments and the keywords arguments."
   ]
  },
  {
   "attachments": {},
   "cell_type": "markdown",
   "id": "8e7d5eb4",
   "metadata": {},
   "source": [
    "Use of the Args:\n",
    "\n",
    "*args are used to pass the variable number of the non-keyworded arguments in a function. For the example of the use of the args is as follows:"
   ]
  },
  {
   "cell_type": "code",
   "execution_count": 2,
   "id": "d8386083",
   "metadata": {},
   "outputs": [
    {
     "name": "stdout",
     "output_type": "stream",
     "text": [
      "Hello\n",
      "Mr.\n",
      "Pritam\n",
      "Raj\n"
     ]
    }
   ],
   "source": [
    "def print_args(*args):\n",
    "    for arg in args:\n",
    "        print(arg)\n",
    "\n",
    "\n",
    "print_args('Hello', 'Mr.', 'Pritam', 'Raj')"
   ]
  },
  {
   "attachments": {},
   "cell_type": "markdown",
   "id": "195ab240",
   "metadata": {},
   "source": [
    "Kwargs: The kwargs are used to pass the variable number of the keyworded value into the function. For example, the code is as follows:"
   ]
  },
  {
   "cell_type": "code",
   "execution_count": 5,
   "id": "a2f90b07",
   "metadata": {},
   "outputs": [
    {
     "name": "stdout",
     "output_type": "stream",
     "text": [
      "The key is first & the value is I\n",
      "The key is mid & the value is am\n",
      "The key is last & the value is Pritam\n"
     ]
    }
   ],
   "source": [
    "def print_kwargs(**kwargs):\n",
    "    for key, value in kwargs.items():\n",
    "        print(f'The key is {key} & the value is {value}')\n",
    "\n",
    "print_kwargs(first='I', mid='am', last='Pritam')"
   ]
  },
  {
   "attachments": {},
   "cell_type": "markdown",
   "id": "d5cf6bdc",
   "metadata": {},
   "source": [
    "The advantage of using the args & kwargs is that we can pass teh variable number of the arguments into it. It allows us to make the dynamic program which is not restricted to a fixed number of the input."
   ]
  },
  {
   "cell_type": "markdown",
   "id": "d9c6c569",
   "metadata": {},
   "source": [
    "----"
   ]
  },
  {
   "cell_type": "markdown",
   "id": "72e23fa7",
   "metadata": {},
   "source": [
    "Q3. What is an iterator in python? Name the method used to initialise the iterator object and the method\n",
    "used for iteration. Use these methods to print the first five elements of the given list [2, 4, 6, 8, 10, 12, 14,\n",
    "16, 18, 20]."
   ]
  },
  {
   "attachments": {},
   "cell_type": "markdown",
   "id": "284d97a9",
   "metadata": {},
   "source": [
    "Iterator is a method in the Python that makes anything iterable. By making anything iterable we can iterate through it very easily. Let say we have a list = [1,2,3,4,5], by making it iterable we can traverse through its elements very easily. 'Iter' keyword is used to make an element itearble. Methdod to make the object iterable is __iter()__ and the method used for the iteartion is __next()__."
   ]
  },
  {
   "cell_type": "code",
   "execution_count": 21,
   "id": "a447f5f0",
   "metadata": {},
   "outputs": [
    {
     "name": "stdout",
     "output_type": "stream",
     "text": [
      "2\n",
      "4\n",
      "6\n",
      "8\n",
      "10\n",
      "12\n",
      "14\n",
      "16\n",
      "18\n",
      "20\n"
     ]
    }
   ],
   "source": [
    "num_list = [2, 4, 6, 8, 10, 12, 14, 16, 18, 20]\n",
    "iter_num_list = iter(num_list)\n",
    "\n",
    "for i in range(len(num_list)):\n",
    "    print(next(iter_num_list))"
   ]
  },
  {
   "cell_type": "markdown",
   "id": "5f13bfb3",
   "metadata": {},
   "source": [
    "---"
   ]
  },
  {
   "cell_type": "markdown",
   "id": "dd8bcb69",
   "metadata": {},
   "source": [
    "Q4. What is a generator function in python? Why yield keyword is used? Give an example of a generator\n",
    "function."
   ]
  },
  {
   "attachments": {},
   "cell_type": "markdown",
   "id": "84228b81",
   "metadata": {},
   "source": [
    "Generator function is the function that is used to make a function iterable. Yield keyword is used for this purpose. It saves the iteration value of the function loaclly and returns the function output value for all the iterable results. The example of the generator function is as follows:"
   ]
  },
  {
   "cell_type": "code",
   "execution_count": 25,
   "id": "27b6e372",
   "metadata": {},
   "outputs": [
    {
     "data": {
      "text/plain": [
       "generator"
      ]
     },
     "execution_count": 25,
     "metadata": {},
     "output_type": "execute_result"
    }
   ],
   "source": [
    "def num_square(num_list):\n",
    "    for i in num_list:\n",
    "        yield i**2\n",
    "square_list = num_square([1,2,3,4,5])\n",
    "type(square_list)"
   ]
  },
  {
   "cell_type": "code",
   "execution_count": 34,
   "id": "017d3259",
   "metadata": {},
   "outputs": [
    {
     "name": "stdout",
     "output_type": "stream",
     "text": [
      "1\n",
      "4\n",
      "9\n",
      "16\n",
      "25\n"
     ]
    }
   ],
   "source": [
    "for i in num_square([1,2,3,4,5]):\n",
    "    print(i)"
   ]
  },
  {
   "cell_type": "markdown",
   "id": "189a8ee9",
   "metadata": {},
   "source": [
    "---"
   ]
  },
  {
   "cell_type": "markdown",
   "id": "549aafac",
   "metadata": {},
   "source": [
    "Q5. Create a generator function for prime numbers less than 1000. Use the next() method to print the\n",
    "first 20 prime numbers."
   ]
  },
  {
   "cell_type": "code",
   "execution_count": 39,
   "id": "f7602127",
   "metadata": {},
   "outputs": [
    {
     "name": "stdout",
     "output_type": "stream",
     "text": [
      "2\n",
      "3\n",
      "5\n",
      "7\n",
      "11\n",
      "13\n",
      "17\n",
      "19\n",
      "23\n",
      "29\n",
      "31\n",
      "37\n",
      "41\n",
      "43\n",
      "47\n",
      "53\n",
      "59\n",
      "61\n",
      "67\n",
      "71\n"
     ]
    }
   ],
   "source": [
    "def primes_generator():\n",
    "    num = 2\n",
    "    while True:\n",
    "        if all(num % i != 0 for i in range(2, int(num ** 0.5) + 1)):\n",
    "            yield num\n",
    "        num += 1\n",
    "\n",
    "# Using the generator function to print the first 20 prime numbers\n",
    "prime_gen = primes_generator()\n",
    "\n",
    "for _ in range(20):\n",
    "    print(next(prime_gen))\n"
   ]
  },
  {
   "cell_type": "markdown",
   "id": "2c9941a4",
   "metadata": {},
   "source": [
    "---"
   ]
  },
  {
   "cell_type": "markdown",
   "id": "0eebb15e",
   "metadata": {},
   "source": [
    "Q6. Write a python program to print the first 10 Fibonacci numbers using a while loop."
   ]
  },
  {
   "cell_type": "code",
   "execution_count": 23,
   "id": "89b61f0b",
   "metadata": {},
   "outputs": [
    {
     "name": "stdout",
     "output_type": "stream",
     "text": [
      "0 1 1 2 3 5 8 13 21 34 "
     ]
    }
   ],
   "source": [
    "n = 10\n",
    "\n",
    "i =0\n",
    "\n",
    "a = 0\n",
    "\n",
    "b = 1\n",
    "\n",
    "while i<n:\n",
    "    print(a, end = \" \")\n",
    "    a, b = b, a+b\n",
    "    i+=1"
   ]
  },
  {
   "cell_type": "markdown",
   "id": "4e543039",
   "metadata": {},
   "source": [
    "----"
   ]
  },
  {
   "cell_type": "markdown",
   "id": "1e2330d2",
   "metadata": {},
   "source": [
    "Q7. Write a List Comprehension to iterate through the given string: ‘pwskills’.\n",
    "Expected output: ['p', 'w', 's', 'k', 'i', 'l', 'l', 's']"
   ]
  },
  {
   "cell_type": "code",
   "execution_count": 12,
   "id": "487024e0",
   "metadata": {},
   "outputs": [
    {
     "data": {
      "text/plain": [
       "['p', 'w', 's', 'k', 'i', 'l', 'l', 's']"
      ]
     },
     "execution_count": 12,
     "metadata": {},
     "output_type": "execute_result"
    }
   ],
   "source": [
    "string = \"pwskills\"\n",
    "list_comprehension = [i for i in(iter(string))]\n",
    "list_comprehension"
   ]
  },
  {
   "cell_type": "markdown",
   "id": "4a2e0bba",
   "metadata": {},
   "source": [
    "---"
   ]
  },
  {
   "cell_type": "markdown",
   "id": "b0d4fef9",
   "metadata": {},
   "source": [
    "Q8. Write a python program to check whether a given number is Palindrome or not using a while loop."
   ]
  },
  {
   "cell_type": "code",
   "execution_count": 17,
   "id": "40e744e4",
   "metadata": {},
   "outputs": [
    {
     "name": "stdout",
     "output_type": "stream",
     "text": [
      "Enter a number121\n",
      "Palindrome\n"
     ]
    }
   ],
   "source": [
    "n = int(input(\"Enter a number\"))\n",
    "\n",
    "i = 0\n",
    "\n",
    "while i <= 0:\n",
    "    if str(n) == str(n)[::-1]:\n",
    "        print(\"Palindrome\")\n",
    "    else:\n",
    "        print(\"Not Palindrome\")\n",
    "    i+=1\n"
   ]
  },
  {
   "cell_type": "markdown",
   "id": "dde8cff3",
   "metadata": {},
   "source": [
    "----"
   ]
  },
  {
   "cell_type": "markdown",
   "id": "b50056c1",
   "metadata": {},
   "source": [
    "Q9. Write a code to print odd numbers from 1 to 100 using list comprehension.\n",
    "\n",
    "Note: Use a list comprehension to create a list from 1 to 100 and use another List comprehension to filter\n",
    "out odd numbers."
   ]
  },
  {
   "cell_type": "code",
   "execution_count": 19,
   "id": "fb1ee3d6",
   "metadata": {},
   "outputs": [
    {
     "data": {
      "text/plain": [
       "[1,\n",
       " 3,\n",
       " 5,\n",
       " 7,\n",
       " 9,\n",
       " 11,\n",
       " 13,\n",
       " 15,\n",
       " 17,\n",
       " 19,\n",
       " 21,\n",
       " 23,\n",
       " 25,\n",
       " 27,\n",
       " 29,\n",
       " 31,\n",
       " 33,\n",
       " 35,\n",
       " 37,\n",
       " 39,\n",
       " 41,\n",
       " 43,\n",
       " 45,\n",
       " 47,\n",
       " 49,\n",
       " 51,\n",
       " 53,\n",
       " 55,\n",
       " 57,\n",
       " 59,\n",
       " 61,\n",
       " 63,\n",
       " 65,\n",
       " 67,\n",
       " 69,\n",
       " 71,\n",
       " 73,\n",
       " 75,\n",
       " 77,\n",
       " 79,\n",
       " 81,\n",
       " 83,\n",
       " 85,\n",
       " 87,\n",
       " 89,\n",
       " 91,\n",
       " 93,\n",
       " 95,\n",
       " 97,\n",
       " 99]"
      ]
     },
     "execution_count": 19,
     "metadata": {},
     "output_type": "execute_result"
    }
   ],
   "source": [
    "num_list = [i for i in range(1,101,1)]\n",
    "\n",
    "odd_num_list = [i for i in num_list if i%2!=0]\n",
    "\n",
    "odd_num_list"
   ]
  },
  {
   "cell_type": "markdown",
   "id": "c0a5b167",
   "metadata": {},
   "source": [
    "----"
   ]
  }
 ],
 "metadata": {
  "kernelspec": {
   "display_name": "Python 3 (ipykernel)",
   "language": "python",
   "name": "python3"
  },
  "language_info": {
   "codemirror_mode": {
    "name": "ipython",
    "version": 3
   },
   "file_extension": ".py",
   "mimetype": "text/x-python",
   "name": "python",
   "nbconvert_exporter": "python",
   "pygments_lexer": "ipython3",
   "version": "3.10.2"
  }
 },
 "nbformat": 4,
 "nbformat_minor": 5
}
