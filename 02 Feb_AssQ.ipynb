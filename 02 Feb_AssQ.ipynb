{
 "cells": [
  {
   "cell_type": "markdown",
   "id": "7e6211da",
   "metadata": {},
   "source": [
    "Q1. Explain with an example each when to use a for loop and a while loop."
   ]
  },
  {
   "cell_type": "markdown",
   "id": "b305e542",
   "metadata": {},
   "source": [
    "### Both for loops and while loops are used for repetitive tasks, but they have slightly different use cases depending on the situation.\n",
    "\n",
    "A for loop is typically used when you know the number of iterations or when you want to iterate over a known sequence or range of values. It is commonly used when you want to perform a specific action a fixed number of times.\n",
    "\n",
    "Here's an example:\n",
    "\n",
    "# Using a for loop to iterate over a range of values\n",
    "for i in range(5):\n",
    "\n",
    "    print(\"Iteration:\", i)\n",
    "\n",
    "Output: \n",
    "\n",
    "Iteration: 0\n",
    "\n",
    "Iteration: 1\n",
    "\n",
    "Iteration: 2\n",
    "\n",
    "Iteration: 3\n",
    "\n",
    "Iteration: 4\n",
    "\n",
    "In this example, the for loop iterates over the range of values from 0 to 4 (exclusive). It executes the print statement five times, once for each iteration.\n",
    "\n",
    "\n",
    "On the other hand, a while loop is used when you want to repeat a block of code until a certain condition is met. It is suitable when you don't know the exact number of iterations in advance or when the termination condition depends on runtime values.\n",
    "\n",
    "Here's an example:\n",
    "\n",
    "# Using a while loop to repeat until a condition is met\n",
    "count = 0\n",
    "\n",
    "while count < 5:\n",
    "\n",
    "    print(\"Count:\", count)\n",
    "    \n",
    "    count += 1\n",
    "    \n",
    "Output:\n",
    "\n",
    "Count: 0\n",
    "\n",
    "Count: 1\n",
    "\n",
    "Count: 2\n",
    "\n",
    "Count: 3\n",
    "\n",
    "Count: 4\n",
    "\n",
    "In this example, the while loop continues executing the print statement as long as the count variable is less than 5. It increments the count variable by 1 in each iteration until the condition is no longer true.\n",
    "\n",
    "To summarize, use a for loop when you know the number of iterations in advance or when you want to iterate over a known sequence. Use a while loop when the number of iterations is uncertain or when you need to repeat a block of code until a specific condition is met.\n"
   ]
  },
  {
   "cell_type": "markdown",
   "id": "48516451",
   "metadata": {},
   "source": [
    "---"
   ]
  },
  {
   "cell_type": "markdown",
   "id": "95b23df6",
   "metadata": {},
   "source": [
    "Q2. Write a python program to print the sum and product of the first 10 natural numbers using for\n",
    "and while loop."
   ]
  },
  {
   "cell_type": "code",
   "execution_count": 1,
   "id": "75cfde69",
   "metadata": {},
   "outputs": [
    {
     "name": "stdout",
     "output_type": "stream",
     "text": [
      "Sum of first 10 numbers is 55 & the product is 3628800\n"
     ]
    }
   ],
   "source": [
    "n = 10\n",
    "\n",
    "def sum_func(n):\n",
    "    sum_result = 0 \n",
    "    for i in range(n):\n",
    "        sum_result+=(i+1)\n",
    "    return sum_result\n",
    "    \n",
    "    \n",
    "def product_func(n):\n",
    "    product_result = 1 \n",
    "    for i in range(n):\n",
    "        product_result*=(i+1)\n",
    "    return product_result\n",
    "        \n",
    "print(f\"Sum of first 10 numbers is {sum_func(n)} & the product is {product_func(n)}\")"
   ]
  },
  {
   "cell_type": "markdown",
   "id": "85b3bb3c",
   "metadata": {},
   "source": [
    "----"
   ]
  },
  {
   "cell_type": "markdown",
   "id": "6cfa6255",
   "metadata": {},
   "source": [
    "Q3. Create a python program to compute the electricity bill for a household.\n",
    "\n",
    "\n",
    "The per-unit charges in rupees are as follows: For the first 100 units, the user will be charged Rs. 4.5 per\n",
    "unit, for the next 100 units, the user will be charged Rs. 6 per unit, and for the next 100 units, the user will\n",
    "be charged Rs. 10 per unit, After 300 units and above the user will be charged Rs. 20 per unit.\n",
    "\n",
    "You are required to take the units of electricity consumed in a month from the user as input.\n",
    "\n",
    "Your program must pass this test case: when the unit of electricity consumed by the user in a month is\n",
    "310, the total electricity bill should be 2250."
   ]
  },
  {
   "cell_type": "code",
   "execution_count": 5,
   "id": "522d140b",
   "metadata": {},
   "outputs": [
    {
     "name": "stdout",
     "output_type": "stream",
     "text": [
      "Enter the number of the units consumed310\n"
     ]
    },
    {
     "data": {
      "text/plain": [
       "2250"
      ]
     },
     "execution_count": 5,
     "metadata": {},
     "output_type": "execute_result"
    }
   ],
   "source": [
    "units_consumed = int(input(\"Enter the number of the units consumed\"))\n",
    "\n",
    "def electricity_bills(units_consumed):\n",
    "    if units_consumed<=100:\n",
    "        electricity_bill= units_consumed*4.5\n",
    "    elif units_consumed>100 and units_consumed<=200:\n",
    "        electricity_bill = (units_consumed - 100) *6 + 100* 4.5\n",
    "    elif units_consumed>200 and units_consumed<=300:\n",
    "        electricity_bill = (units_consumed - 200) * 10 + 100 *6  + 100* 4.5\n",
    "    else:\n",
    "        electricity_bill = (units_consumed - 300) * 20 + 100* 10 + 100 *6  + 100* 4.5\n",
    "        \n",
    "    return int(electricity_bill)\n",
    "\n",
    "electricity_bills(units_consumed)"
   ]
  },
  {
   "cell_type": "markdown",
   "id": "8120bab9",
   "metadata": {},
   "source": [
    "---"
   ]
  },
  {
   "cell_type": "markdown",
   "id": "4d9e4145",
   "metadata": {},
   "source": [
    "Q4. Create a list of numbers from 1 to 100. Use for loop and while loop to calculate the cube of each\n",
    "number and if the cube of that number is divisible by 4 or 5 then append that number in a list and print\n",
    "that list."
   ]
  },
  {
   "cell_type": "code",
   "execution_count": 6,
   "id": "5d25e775",
   "metadata": {},
   "outputs": [
    {
     "name": "stdout",
     "output_type": "stream",
     "text": [
      "2 4 5 6 8 10 12 14 15 16 18 20 22 24 25 26 28 30 32 34 35 36 38 40 42 44 45 46 48 50 52 54 55 56 58 60 62 64 65 66 68 70 72 74 75 76 78 80 82 84 85 86 88 90 92 94 95 96 98 100 "
     ]
    }
   ],
   "source": [
    "num_list = list(range(1,101,1))\n",
    "resulted_list = []\n",
    "\n",
    "for i in num_list:\n",
    "    num_cube = i**3\n",
    "    if num_cube %4==0 or num_cube%5==0:\n",
    "        resulted_list.append(i)\n",
    "   \n",
    "i = 0\n",
    "while i<(len(resulted_list)):\n",
    "    print(resulted_list[i], end = \" \")\n",
    "    i+=1\n",
    "    "
   ]
  },
  {
   "cell_type": "markdown",
   "id": "ddd67d1f",
   "metadata": {},
   "source": [
    "---"
   ]
  },
  {
   "cell_type": "markdown",
   "id": "f148018a",
   "metadata": {},
   "source": [
    "Q5. Write a program to filter count vowels in the below-given string.\n",
    "string = \"I want to become a data scientist\""
   ]
  },
  {
   "cell_type": "code",
   "execution_count": 7,
   "id": "6786f8fa",
   "metadata": {},
   "outputs": [
    {
     "name": "stdout",
     "output_type": "stream",
     "text": [
      "The number of vowels in the above string is: 12\n"
     ]
    }
   ],
   "source": [
    "vowels_list = ['a', 'e', 'i', 'o', 'u']\n",
    "\n",
    "string =  \"I want to become a data scientist\"\n",
    "\n",
    "count_vowel = 0\n",
    "\n",
    "for i in string.lower():\n",
    "    if i in vowels_list:\n",
    "        count_vowel+=1\n",
    "\n",
    "print(\"The number of vowels in the above string is:\",count_vowel)"
   ]
  },
  {
   "cell_type": "markdown",
   "id": "4358029c",
   "metadata": {},
   "source": [
    "---"
   ]
  },
  {
   "cell_type": "markdown",
   "id": "dd26e02e",
   "metadata": {},
   "source": [
    "----"
   ]
  }
 ],
 "metadata": {
  "kernelspec": {
   "display_name": "Python 3 (ipykernel)",
   "language": "python",
   "name": "python3"
  },
  "language_info": {
   "codemirror_mode": {
    "name": "ipython",
    "version": 3
   },
   "file_extension": ".py",
   "mimetype": "text/x-python",
   "name": "python",
   "nbconvert_exporter": "python",
   "pygments_lexer": "ipython3",
   "version": "3.7.11"
  }
 },
 "nbformat": 4,
 "nbformat_minor": 5
}
